{
  "cells": [
    {
      "cell_type": "markdown",
      "source": [
        "**simple neural network using Micrograd for data classification**"
      ],
      "metadata": {
        "id": "SFnVZmHSrux2"
      }
    },
    {
      "cell_type": "code",
      "source": [
        "!pip install micrograd\n",
        "\n",
        "import random\n",
        "import numpy as np\n",
        "import matplotlib.pyplot as plt\n",
        "from sklearn.datasets import make_moons\n",
        "from micrograd.engine import Value\n",
        "from micrograd.nn import MLP\n"
      ],
      "metadata": {
        "colab": {
          "base_uri": "https://localhost:8080/"
        },
        "id": "DJ-xnea-r4WO",
        "outputId": "438dee6a-ca3d-4e61-c56f-08f894e19ca9"
      },
      "execution_count": 3,
      "outputs": [
        {
          "output_type": "stream",
          "name": "stdout",
          "text": [
            "Collecting micrograd\n",
            "  Downloading micrograd-0.1.0-py3-none-any.whl (4.9 kB)\n",
            "Installing collected packages: micrograd\n",
            "Successfully installed micrograd-0.1.0\n"
          ]
        }
      ]
    },
    {
      "cell_type": "code",
      "source": [
        "# Constants\n",
        "LEARNING_RATE = 0.1\n",
        "REGULARIZATION_STRENGTH = 1e-4\n",
        "BATCH_SIZE = None  # Set to None for full batch"
      ],
      "metadata": {
        "id": "bQQ7PPIbr-Tv"
      },
      "execution_count": 4,
      "outputs": []
    },
    {
      "cell_type": "code",
      "source": [
        "#Load and process dataset\n",
        "def load_data():\n",
        "    X, y = make_moons(n_samples=100, noise=0.1)\n",
        "    y = y * 2 - 1\n",
        "    return X, y"
      ],
      "metadata": {
        "id": "mRkJ9DHYsH2_"
      },
      "execution_count": 6,
      "outputs": []
    },
    {
      "cell_type": "code",
      "source": [
        "#Create and initialize the neural network model\n",
        "def initialize_model():\n",
        "    model = MLP(2, [16, 16, 1])  # 2-layer neural network\n",
        "    return model"
      ],
      "metadata": {
        "id": "ikb75Er9sPpQ"
      },
      "execution_count": 7,
      "outputs": []
    },
    {
      "cell_type": "code",
      "source": [
        "def calculate_loss(model, X, y):\n",
        "    \"\"\"\n",
        "    Calculate the loss function for the given model, data, and labels.\n",
        "\n",
        "    Args:\n",
        "        model (MLP): The neural network model.\n",
        "        X (numpy.ndarray): Input data.\n",
        "        y (numpy.ndarray): Target labels.\n",
        "\n",
        "    Returns:\n",
        "        float: Total loss value.\n",
        "        float: Accuracy of predictions.\n",
        "    \"\"\"\n",
        "    if BATCH_SIZE is None:\n",
        "        X_batch, y_batch = X, y\n",
        "    else:\n",
        "        random_indices = np.random.permutation(X.shape[0])[:BATCH_SIZE]\n",
        "        X_batch, y_batch = X[random_indices], y[random_indices]\n",
        "\n",
        "    # Convert input data to Value objects for automatic differentiation\n",
        "    inputs = [list(map(Value, x_row)) for x_row in X_batch]\n",
        "\n",
        "    # Forward pass to calculate scores\n",
        "    scores = list(map(model, inputs))\n",
        "\n",
        "    # Calculate SVM loss\n",
        "    losses = [(1 + -y_i * score_i).relu() for y_i, score_i in zip(y_batch, scores)]\n",
        "    data_loss = sum(losses) * (1.0 / len(losses))\n",
        "\n",
        "    # L2 regularization\n",
        "    reg_loss = REGULARIZATION_STRENGTH * sum((p * p for p in model.parameters()))\n",
        "    total_loss = data_loss + reg_loss\n",
        "\n",
        "    # Calculate accuracy\n",
        "    accuracy = [(y_i > 0) == (score_i.data > 0) for y_i, score_i in zip(y_batch, scores)]\n",
        "\n",
        "    return total_loss, sum(accuracy) / len(accuracy)"
      ],
      "metadata": {
        "id": "F5-NblYCsXVI"
      },
      "execution_count": 8,
      "outputs": []
    },
    {
      "cell_type": "code",
      "source": [
        "def optimize(model, X, y, learning_rate):\n",
        "    \"\"\"\n",
        "    Optimize the model using stochastic gradient descent (SGD).\n",
        "\n",
        "    Args:\n",
        "        model (MLP): The neural network model.\n",
        "        X (numpy.ndarray): Input data.\n",
        "        y (numpy.ndarray): Target labels.\n",
        "        learning_rate (float): Learning rate for SGD.\n",
        "    \"\"\"\n",
        "    # Forward pass and compute loss\n",
        "    total_loss, acc = calculate_loss(model, X, y)\n",
        "\n",
        "    # Backward pass to compute gradients\n",
        "    model.zero_grad()\n",
        "    total_loss.backward()\n",
        "\n",
        "    # Update model parameters using SGD\n",
        "    for p in model.parameters():\n",
        "        p.data -= learning_rate * p.grad"
      ],
      "metadata": {
        "id": "h2Va5yogsYVl"
      },
      "execution_count": 9,
      "outputs": []
    },
    {
      "cell_type": "code",
      "source": [
        "def plot_decision_boundary(model, X, y):\n",
        "    \"\"\"\n",
        "    Visualize the decision boundary of the model.\n",
        "\n",
        "    Args:\n",
        "        model (MLP): The trained neural network model.\n",
        "        X (numpy.ndarray): Input data.\n",
        "        y (numpy.ndarray): Target labels.\n",
        "    \"\"\"\n",
        "    h = 0.25\n",
        "    x_min, x_max = X[:, 0].min() - 1, X[:, 0].max() + 1\n",
        "    y_min, y_max = X[:, 1].min() - 1, X[:, 1].max() + 1\n",
        "    xx, yy = np.meshgrid(np.arange(x_min, x_max, h), np.arange(y_min, y_max, h))\n",
        "    X_mesh = np.c_[xx.ravel(), yy.ravel()]\n",
        "    inputs = [list(map(Value, x_row)) for x_row in X_mesh]\n",
        "    scores = list(map(model, inputs))\n",
        "    Z = np.array([s.data > 0 for s in scores])\n",
        "    Z = Z.reshape(xx.shape)\n",
        "\n",
        "    plt.figure()\n",
        "    plt.contourf(xx, yy, Z, cmap=plt.cm.Spectral, alpha=0.8)\n",
        "    plt.scatter(X[:, 0], X[:, 1], c=y, s=40, cmap=plt.cm.Spectral)\n",
        "    plt.xlim(xx.min(), xx.max())\n",
        "    plt.ylim(yy.min(), yy.max())\n",
        "    plt.xlabel(\"Feature 1\")\n",
        "    plt.ylabel(\"Feature 2\")\n",
        "    plt.title(\"Decision Boundary\")\n",
        "    plt.show()"
      ],
      "metadata": {
        "id": "RKUY3RsWscGR"
      },
      "execution_count": 10,
      "outputs": []
    },
    {
      "cell_type": "code",
      "source": [
        "def main():\n",
        "    # Load data\n",
        "    X, y = load_data()\n",
        "\n",
        "    # Initialize the model\n",
        "    model = initialize_model()\n",
        "\n",
        "    # Training loop\n",
        "    for epoch in range(100):\n",
        "        # Calculate loss and optimize\n",
        "        optimize(model, X, y, LEARNING_RATE)\n",
        "\n",
        "        # Logging progress\n",
        "        total_loss, acc = calculate_loss(model, X, y)\n",
        "        print(f\"Epoch {epoch}: Loss {total_loss.data}, Accuracy {acc * 100}%\")\n",
        "\n",
        "    # Visualize decision boundary\n",
        "    plot_decision_boundary(model, X, y)\n",
        "\n",
        "if __name__ == \"__main__\":\n",
        "    main()"
      ],
      "metadata": {
        "colab": {
          "base_uri": "https://localhost:8080/",
          "height": 1000
        },
        "id": "5hRoSJ2Use9q",
        "outputId": "223c1e33-cdbc-4e6e-c944-803babb4b90c"
      },
      "execution_count": 11,
      "outputs": [
        {
          "output_type": "stream",
          "name": "stdout",
          "text": [
            "Epoch 0: Loss 0.7791482059390118, Accuracy 81.0%\n",
            "Epoch 1: Loss 0.5110591318664096, Accuracy 83.0%\n",
            "Epoch 2: Loss 0.3874527353410874, Accuracy 84.0%\n",
            "Epoch 3: Loss 0.34419694501764836, Accuracy 87.0%\n",
            "Epoch 4: Loss 0.3198885508929445, Accuracy 86.0%\n",
            "Epoch 5: Loss 0.29857337028099196, Accuracy 85.0%\n",
            "Epoch 6: Loss 0.2929369831499483, Accuracy 86.0%\n",
            "Epoch 7: Loss 0.28796292664836187, Accuracy 86.0%\n",
            "Epoch 8: Loss 0.2838692785086445, Accuracy 86.0%\n",
            "Epoch 9: Loss 0.28010978129558, Accuracy 86.0%\n",
            "Epoch 10: Loss 0.2765423877884479, Accuracy 86.0%\n",
            "Epoch 11: Loss 0.2730070308557748, Accuracy 88.0%\n",
            "Epoch 12: Loss 0.2701114491820974, Accuracy 87.0%\n",
            "Epoch 13: Loss 0.2672591869755745, Accuracy 88.0%\n",
            "Epoch 14: Loss 0.26486562072609865, Accuracy 87.0%\n",
            "Epoch 15: Loss 0.2626133632536333, Accuracy 88.0%\n",
            "Epoch 16: Loss 0.2607333103945341, Accuracy 88.0%\n",
            "Epoch 17: Loss 0.25899885235816916, Accuracy 88.0%\n",
            "Epoch 18: Loss 0.25771971836523844, Accuracy 88.0%\n",
            "Epoch 19: Loss 0.25615851458114386, Accuracy 88.0%\n",
            "Epoch 20: Loss 0.25463129164604487, Accuracy 88.0%\n",
            "Epoch 21: Loss 0.2538828258222933, Accuracy 88.0%\n",
            "Epoch 22: Loss 0.25224510977068637, Accuracy 88.0%\n",
            "Epoch 23: Loss 0.25113519585743543, Accuracy 88.0%\n",
            "Epoch 24: Loss 0.24984941454646276, Accuracy 88.0%\n",
            "Epoch 25: Loss 0.24866797774981148, Accuracy 88.0%\n",
            "Epoch 26: Loss 0.24762967768997265, Accuracy 88.0%\n",
            "Epoch 27: Loss 0.24638754943593888, Accuracy 88.0%\n",
            "Epoch 28: Loss 0.2467525809129995, Accuracy 88.0%\n",
            "Epoch 29: Loss 0.2452951742788711, Accuracy 88.0%\n",
            "Epoch 30: Loss 0.24749378569415442, Accuracy 88.0%\n",
            "Epoch 31: Loss 0.24400250608594182, Accuracy 88.0%\n",
            "Epoch 32: Loss 0.24886789474764726, Accuracy 89.0%\n",
            "Epoch 33: Loss 0.2394149217219569, Accuracy 88.0%\n",
            "Epoch 34: Loss 0.23851103978346092, Accuracy 88.0%\n",
            "Epoch 35: Loss 0.23648636597561754, Accuracy 88.0%\n",
            "Epoch 36: Loss 0.23527041056932554, Accuracy 88.0%\n",
            "Epoch 37: Loss 0.23544858453720463, Accuracy 88.0%\n",
            "Epoch 38: Loss 0.23723344901143312, Accuracy 88.0%\n",
            "Epoch 39: Loss 0.23674484121110181, Accuracy 88.0%\n",
            "Epoch 40: Loss 0.24741492359525152, Accuracy 89.0%\n",
            "Epoch 41: Loss 0.23414778262429636, Accuracy 88.0%\n",
            "Epoch 42: Loss 0.2412013446576937, Accuracy 88.0%\n",
            "Epoch 43: Loss 0.22868136670705114, Accuracy 88.0%\n",
            "Epoch 44: Loss 0.22766773627878809, Accuracy 88.0%\n",
            "Epoch 45: Loss 0.2264807049005618, Accuracy 88.0%\n",
            "Epoch 46: Loss 0.22499459717007098, Accuracy 88.0%\n",
            "Epoch 47: Loss 0.2243242695441056, Accuracy 88.0%\n",
            "Epoch 48: Loss 0.226044118912332, Accuracy 88.0%\n",
            "Epoch 49: Loss 0.22640419708620008, Accuracy 87.0%\n",
            "Epoch 50: Loss 0.23906153454075724, Accuracy 89.0%\n",
            "Epoch 51: Loss 0.2228724136758783, Accuracy 88.0%\n",
            "Epoch 52: Loss 0.22119203795624168, Accuracy 88.0%\n",
            "Epoch 53: Loss 0.21991119541380086, Accuracy 88.0%\n",
            "Epoch 54: Loss 0.218827798363467, Accuracy 88.0%\n",
            "Epoch 55: Loss 0.2180042783623926, Accuracy 88.0%\n",
            "Epoch 56: Loss 0.2179460597447105, Accuracy 88.0%\n",
            "Epoch 57: Loss 0.2200099672270438, Accuracy 88.0%\n",
            "Epoch 58: Loss 0.22728775592276118, Accuracy 89.0%\n",
            "Epoch 59: Loss 0.21977614416263735, Accuracy 88.0%\n",
            "Epoch 60: Loss 0.22732668617330623, Accuracy 89.0%\n",
            "Epoch 61: Loss 0.2171496076309684, Accuracy 88.0%\n",
            "Epoch 62: Loss 0.21835284672638322, Accuracy 88.0%\n",
            "Epoch 63: Loss 0.21473992567705513, Accuracy 88.0%\n",
            "Epoch 64: Loss 0.2129517094275796, Accuracy 89.0%\n",
            "Epoch 65: Loss 0.2133079747479955, Accuracy 88.0%\n",
            "Epoch 66: Loss 0.211678142130868, Accuracy 89.0%\n",
            "Epoch 67: Loss 0.2137456474277779, Accuracy 88.0%\n",
            "Epoch 68: Loss 0.20996006281650362, Accuracy 88.0%\n",
            "Epoch 69: Loss 0.20914754757098808, Accuracy 89.0%\n",
            "Epoch 70: Loss 0.21078383305909215, Accuracy 88.0%\n",
            "Epoch 71: Loss 0.20638734309470894, Accuracy 89.0%\n",
            "Epoch 72: Loss 0.2081124380540854, Accuracy 89.0%\n",
            "Epoch 73: Loss 0.21162576615501047, Accuracy 89.0%\n",
            "Epoch 74: Loss 0.2045883701896035, Accuracy 89.0%\n",
            "Epoch 75: Loss 0.20327572794822552, Accuracy 89.0%\n",
            "Epoch 76: Loss 0.2019838900910811, Accuracy 89.0%\n",
            "Epoch 77: Loss 0.20613145829895463, Accuracy 90.0%\n",
            "Epoch 78: Loss 0.203003255439785, Accuracy 89.0%\n",
            "Epoch 79: Loss 0.20395910898140532, Accuracy 90.0%\n",
            "Epoch 80: Loss 0.20204515392559122, Accuracy 89.0%\n",
            "Epoch 81: Loss 0.20471431320991235, Accuracy 90.0%\n",
            "Epoch 82: Loss 0.19870032443925212, Accuracy 89.0%\n",
            "Epoch 83: Loss 0.19667631105128794, Accuracy 90.0%\n",
            "Epoch 84: Loss 0.1966433476962995, Accuracy 89.0%\n",
            "Epoch 85: Loss 0.20012599145066753, Accuracy 90.0%\n",
            "Epoch 86: Loss 0.19668264269813898, Accuracy 91.0%\n",
            "Epoch 87: Loss 0.19698404503592631, Accuracy 90.0%\n",
            "Epoch 88: Loss 0.19242232330269501, Accuracy 89.0%\n",
            "Epoch 89: Loss 0.1914861595452259, Accuracy 90.0%\n",
            "Epoch 90: Loss 0.18988769423034058, Accuracy 89.0%\n",
            "Epoch 91: Loss 0.18875696000172001, Accuracy 90.0%\n",
            "Epoch 92: Loss 0.18783528113021422, Accuracy 90.0%\n",
            "Epoch 93: Loss 0.18729618183854674, Accuracy 91.0%\n",
            "Epoch 94: Loss 0.18656769287070732, Accuracy 90.0%\n",
            "Epoch 95: Loss 0.18878318912366396, Accuracy 90.0%\n",
            "Epoch 96: Loss 0.1888415889180355, Accuracy 90.0%\n",
            "Epoch 97: Loss 0.20228603411956364, Accuracy 91.0%\n",
            "Epoch 98: Loss 0.18580536863523436, Accuracy 91.0%\n",
            "Epoch 99: Loss 0.18582147021099, Accuracy 91.0%\n"
          ]
        },
        {
          "output_type": "display_data",
          "data": {
            "text/plain": [
              "<Figure size 640x480 with 1 Axes>"
            ],
            "image/png": "[encoded data removed]"
          },
          "metadata": {}
        }
      ]
    }
  ],
  "metadata": {
    "kernelspec": {
      "display_name": "Python 3",
      "language": "python",
      "name": "python3"
    },
    "language_info": {
      "codemirror_mode": {
        "name": "ipython",
        "version": 3
      },
      "file_extension": ".py",
      "mimetype": "text/x-python",
      "name": "python",
      "nbconvert_exporter": "python",
      "pygments_lexer": "ipython3",
      "version": "3.6.5"
    },
    "colab": {
      "provenance": []
    }
  },
  "nbformat": 4,
  "nbformat_minor": 0
}