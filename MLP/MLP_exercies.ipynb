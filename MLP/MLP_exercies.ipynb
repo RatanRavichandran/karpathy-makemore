{
  "nbformat": 4,
  "nbformat_minor": 0,
  "metadata": {
    "colab": {
      "provenance": [],
      "gpuType": "T4"
    },
    "kernelspec": {
      "name": "python3",
      "display_name": "Python 3"
    },
    "language_info": {
      "name": "python"
    },
    "accelerator": "GPU"
  },
  "cells": [
    {
      "cell_type": "code",
      "execution_count": 1,
      "metadata": {
        "colab": {
          "base_uri": "https://localhost:8080/"
        },
        "id": "WAOlmr1p86kE",
        "outputId": "c6b6f90a-683a-4a92-f825-ddfa31abc387"
      },
      "outputs": [
        {
          "output_type": "stream",
          "name": "stdout",
          "text": [
            "['emma', 'olivia', 'ava', 'isabella', 'sophia', 'charlotte', 'mia', 'amelia']\n",
            "32033\n"
          ]
        }
      ],
      "source": [
        "import torch as torch\n",
        "import torch.nn.functional as F\n",
        "import matplotlib.pyplot as plt\n",
        "words = open(\"/content/names.txt\", \"r\").read().splitlines()\n",
        "print(words[:8])\n",
        "print(len(words))"
      ]
    },
    {
      "cell_type": "code",
      "source": [
        "# Import necessary libraries\n",
        "import torch\n",
        "import random\n",
        "\n",
        "# Define your dataset\n",
        "block_size = 4  # You can change this block size if needed\n",
        "\n",
        "# Step 1: Preprocessing - Creating a character vocabulary and mapping\n",
        "# Sort all unique characters in your dataset and assign an index to each character\n",
        "chars = sorted(list(set(\"\".join(words))))  # Get all unique characters from your words\n",
        "stoi = {s: i + 1 for i, s in enumerate(chars)}  # Create a mapping from character to index\n",
        "stoi[\".\"] = 0  # Add a special character '.' with index 0\n",
        "itos = {i: s for s, i in stoi.items()}  # Create a reverse mapping from index to character\n",
        "\n",
        "# Step 2: Building the dataset\n",
        "def build_dataset(words, block_size=block_size):\n",
        "    X, Y = [], []\n",
        "\n",
        "    for w in words:\n",
        "        context = [0] * block_size  # Initialize a context list with zeros\n",
        "        for ch in w + '.':  # Loop through each character in the word and add a period at the end\n",
        "\n",
        "            ix = stoi[ch]  # Get the index of the current character\n",
        "\n",
        "            X.append(context)  # Append the context (previous characters) to X\n",
        "            Y.append(ix)  # Append the index of the current character to Y\n",
        "\n",
        "            context = context[1:] + [ix]  # Update the context by shifting and adding the current character's index\n",
        "\n",
        "    X = torch.tensor(X)  # Convert X to a PyTorch tensor\n",
        "    Y = torch.tensor(Y)  # Convert Y to a PyTorch tensor\n",
        "    print(X.shape, Y.shape)  # Print the shape of X and Y for verification\n",
        "    return X, Y\n",
        "\n",
        "# Shuffle the words for randomization\n",
        "random.seed(42)\n",
        "random.shuffle(words)\n",
        "\n",
        "# Split the dataset into training, development, and testing sets\n",
        "n1 = int(0.8 * len(words))\n",
        "n2 = int(0.9 * len(words))\n",
        "\n",
        "Xtr, Ytr = build_dataset(words[:n1])  # Training set\n",
        "Xdev, Ydev = build_dataset(words[n1:n2])  # Development set\n",
        "Xte, Yte = build_dataset(words[n2:])  # Testing set\n"
      ],
      "metadata": {
        "colab": {
          "base_uri": "https://localhost:8080/"
        },
        "id": "g5guRi1M9J7w",
        "outputId": "7c0554e7-f0eb-456d-8aa7-8322a6c781dc"
      },
      "execution_count": 2,
      "outputs": [
        {
          "output_type": "stream",
          "name": "stdout",
          "text": [
            "torch.Size([182625, 4]) torch.Size([182625])\n",
            "torch.Size([22655, 4]) torch.Size([22655])\n",
            "torch.Size([22866, 4]) torch.Size([22866])\n"
          ]
        }
      ]
    },
    {
      "cell_type": "markdown",
      "source": [
        "E01: Tune the hyperparameters of the training to beat validation loss of 2.2"
      ],
      "metadata": {
        "id": "eJbZJxUq9h5_"
      }
    },
    {
      "cell_type": "code",
      "source": [
        "# Hyperparameters\n",
        "emb_size = 12\n",
        "in_size = block_size * emb_size\n",
        "hidden_size = 256\n",
        "out_size = 27\n",
        "max_iterations= 290000\n",
        "\n",
        "lr = 0.1\n",
        "lambda_ = 0.01\n",
        "batch_size = 256"
      ],
      "metadata": {
        "id": "5-Kmp5Dd9ivO"
      },
      "execution_count": 7,
      "outputs": []
    },
    {
      "cell_type": "code",
      "source": [
        "# Create a random number generator with a specific seed for reproducibility\n",
        "g = torch.Generator().manual_seed(12344321)\n",
        "\n",
        "# Initialize weight matrices and bias vectors with random values using the specified generator\n",
        "C = torch.randn((out_size, emb_size), generator=g)  # Output layer weights\n",
        "W1 = torch.randn((in_size, hidden_size), generator=g)  # Input to hidden layer weights\n",
        "b1 = torch.randn(hidden_size, generator=g)  # Hidden layer bias\n",
        "W2 = torch.randn((hidden_size, out_size), generator=g)  # Hidden to output layer weights\n",
        "b2 = torch.randn(out_size, generator=g)  # Output layer bias\n",
        "\n",
        "# Create a list containing all the parameters (weights and biases) you want to optimize\n",
        "parameters = [C, W1, b1, W2, b2]\n",
        "\n",
        "# Print the total number of parameters in your model\n",
        "print(f\"number of params = {sum(p.nelement() for p in parameters)}\")\n",
        "\n",
        "# Set requires_grad=True for all parameters, indicating that gradients will be calculated during training\n",
        "for p in parameters:\n",
        "    p.requires_grad = True\n",
        "\n",
        "# Initialize empty lists for storing loss and step values (assuming they will be used later in your code)\n",
        "lossi = []\n",
        "stepi = []\n"
      ],
      "metadata": {
        "colab": {
          "base_uri": "https://localhost:8080/"
        },
        "id": "mUPeNW3D9knG",
        "outputId": "2eb01b46-d402-4457-c2ab-79d26762e17e"
      },
      "execution_count": 4,
      "outputs": [
        {
          "output_type": "stream",
          "name": "stdout",
          "text": [
            "number of params = 19807\n"
          ]
        }
      ]
    },
    {
      "cell_type": "code",
      "source": [
        "# Training Loop\n",
        "for i in range(300000):\n",
        "\n",
        "    # Sample a random minibatch of indices for training data\n",
        "    ix = torch.randint(0, Xtr.shape[0], (batch_size,))\n",
        "\n",
        "    # Forward Pass\n",
        "    emb = C[Xtr[ix]]  # Embedding layer\n",
        "    h = torch.tanh(emb.view(-1, in_size) @ W1 + b1)  # Hidden layer with tanh activation\n",
        "    logits = h @ W2 + b2  # Logits (output) layer\n",
        "\n",
        "    # Calculate the loss using cross-entropy with regularization\n",
        "    loss = F.cross_entropy(logits, Ytr[ix])\n",
        "\n",
        "    # Add regularization terms to the loss\n",
        "    loss += lambda_ * (W1 ** 2).mean() + lambda_ * (W2 ** 2).mean()\n",
        "\n",
        "    # Backward Pass\n",
        "    for p in parameters:\n",
        "        p.grad = None  # Clear gradients before backward pass\n",
        "\n",
        "    loss.backward()  # Compute gradients via backpropagation\n",
        "\n",
        "    # Adjust the learning rate based on the current iteration\n",
        "    used_lr = lr\n",
        "    if i > 20000 and i < 60000:\n",
        "        used_lr = 0.01\n",
        "    elif i >= 200000:\n",
        "        used_lr = 0.001\n",
        "    elif i >= 260000:\n",
        "        used_lr = 0.0001\n",
        "\n",
        "    # Update the model parameters using the calculated gradients and adjusted learning rate\n",
        "    for p in parameters:\n",
        "        p.data -= used_lr * p.grad\n",
        "\n",
        "    # Track the loss and step\n",
        "    lossi.append(loss.log10().item())\n",
        "    stepi.append(i)\n",
        "\n",
        "    # Print the loss and learning rate at certain intervals\n",
        "    if i % 10000 == 0:\n",
        "        print(f\"mini batch {i} | loss {loss.item()} at lr {used_lr}\")\n"
      ],
      "metadata": {
        "colab": {
          "base_uri": "https://localhost:8080/"
        },
        "id": "FTboCUDl95yp",
        "outputId": "5adaf1ac-b473-42bd-bb62-8cdfff7f5d54"
      },
      "execution_count": 5,
      "outputs": [
        {
          "output_type": "stream",
          "name": "stdout",
          "text": [
            "mini batch 0 | loss 30.281293869018555 at lr 0.1\n",
            "mini batch 10000 | loss 2.3724091053009033 at lr 0.1\n",
            "mini batch 20000 | loss 2.2904064655303955 at lr 0.1\n",
            "mini batch 30000 | loss 2.2936646938323975 at lr 0.01\n",
            "mini batch 40000 | loss 2.1645283699035645 at lr 0.01\n",
            "mini batch 50000 | loss 2.013986110687256 at lr 0.01\n",
            "mini batch 60000 | loss 2.183695077896118 at lr 0.1\n",
            "mini batch 70000 | loss 2.2600300312042236 at lr 0.1\n",
            "mini batch 80000 | loss 2.2634193897247314 at lr 0.1\n",
            "mini batch 90000 | loss 2.115208625793457 at lr 0.1\n",
            "mini batch 100000 | loss 2.0860471725463867 at lr 0.1\n",
            "mini batch 110000 | loss 2.2299885749816895 at lr 0.1\n",
            "mini batch 120000 | loss 2.2370123863220215 at lr 0.1\n",
            "mini batch 130000 | loss 2.2087697982788086 at lr 0.1\n",
            "mini batch 140000 | loss 2.3046255111694336 at lr 0.1\n",
            "mini batch 150000 | loss 2.214862585067749 at lr 0.1\n",
            "mini batch 160000 | loss 2.1576220989227295 at lr 0.1\n",
            "mini batch 170000 | loss 2.14815354347229 at lr 0.1\n",
            "mini batch 180000 | loss 2.174960136413574 at lr 0.1\n",
            "mini batch 190000 | loss 2.1383790969848633 at lr 0.1\n",
            "mini batch 200000 | loss 2.001913070678711 at lr 0.001\n",
            "mini batch 210000 | loss 2.140021562576294 at lr 0.001\n",
            "mini batch 220000 | loss 2.0034241676330566 at lr 0.001\n",
            "mini batch 230000 | loss 1.9970229864120483 at lr 0.001\n",
            "mini batch 240000 | loss 2.177961587905884 at lr 0.001\n",
            "mini batch 250000 | loss 2.25162410736084 at lr 0.001\n",
            "mini batch 260000 | loss 2.01487398147583 at lr 0.001\n",
            "mini batch 270000 | loss 2.0828375816345215 at lr 0.001\n",
            "mini batch 280000 | loss 1.9468659162521362 at lr 0.001\n",
            "mini batch 290000 | loss 1.9969853162765503 at lr 0.001\n"
          ]
        }
      ]
    },
    {
      "cell_type": "code",
      "source": [
        "# Evaluation\n",
        "\n",
        "# 1) Training Loss\n",
        "# Forward Pass\n",
        "emb = C[Xtr]\n",
        "# print(emb.shape)\n",
        "h = torch.tanh(emb.view(-1, in_size) @ W1 + b1)\n",
        "logits = h @ W2 + b2\n",
        "loss = F.cross_entropy(logits, Ytr)\n",
        "\n",
        "print(f\"Training set loss {loss.item()}\")\n",
        "\n",
        "# 2) Test Loss\n",
        "# Forward Pass\n",
        "emb = C[Xdev]\n",
        "# print(emb.shape)\n",
        "h = torch.tanh(emb.view(-1, in_size) @ W1 + b1)\n",
        "logits = h @ W2 + b2\n",
        "loss = F.cross_entropy(logits, Ydev)\n",
        "\n",
        "print(f\"Dev set loss {loss.item()}\")\n",
        "\n",
        "# 3) Plot Mini Batch Loss[]\n",
        "plt.plot(lossi);"
      ],
      "metadata": {
        "colab": {
          "base_uri": "https://localhost:8080/",
          "height": 465
        },
        "id": "GyWnkgSbA-TQ",
        "outputId": "92b9cf39-d5d4-412e-8767-b99c56dd9588"
      },
      "execution_count": 9,
      "outputs": [
        {
          "output_type": "stream",
          "name": "stdout",
          "text": [
            "Training set loss 4.479013442993164\n",
            "Dev set loss 4.515892028808594\n"
          ]
        },
        {
          "output_type": "display_data",
          "data": {
            "text/plain": [
              "<Figure size 640x480 with 1 Axes>"
            ],
            "image/png": "[encoded data removed]"
          },
          "metadata": {}
        }
      ]
    },
    {
      "cell_type": "markdown",
      "source": [
        "E02: intialization of the network.\n",
        "(1) What is the loss you'd get if the predicted probabilities at initialization were perfectly uniform? What loss do we achieve?"
      ],
      "metadata": {
        "id": "p82SUawNBDQk"
      }
    },
    {
      "cell_type": "code",
      "source": [
        "torch.nn.init.normal_(C, 0, 0.01)\n",
        "torch.nn.init.normal_(W1, 0, 0.01)\n",
        "torch.nn.init.normal_(b1, 0, 0.01)\n",
        "torch.nn.init.normal_(W2, 0, 0.01)\n",
        "torch.nn.init.normal_(b2, 0, 0.01)\n",
        "\n",
        "# use Xtr and Ytr\n",
        "X = Xtr\n",
        "Y = Ytr\n",
        "\n",
        "parameters = [C, W1, b1, W2, b2]\n",
        "print(f\"number of params = {sum(p.nelement() for p in parameters)}\")\n",
        "\n",
        "for p in parameters:\n",
        "    p.requires_grad = True"
      ],
      "metadata": {
        "colab": {
          "base_uri": "https://localhost:8080/"
        },
        "id": "ot4_vNFABJD3",
        "outputId": "b71b424e-7fb6-48cd-b550-13be85b5807d"
      },
      "execution_count": 11,
      "outputs": [
        {
          "output_type": "stream",
          "name": "stdout",
          "text": [
            "number of params = 19807\n"
          ]
        }
      ]
    },
    {
      "cell_type": "code",
      "source": [
        "# Evaluation\n",
        "# 1) Training Loss\n",
        "# Forward Pass\n",
        "emb = C[Xtr]\n",
        "# print(emb.shape)\n",
        "h = torch.tanh(emb.view(-1, in_size) @ W1 + b1)\n",
        "logits = h @ W2 + b2\n",
        "torch.nn.init.uniform_(logits, 0, 1)\n",
        "loss = F.cross_entropy(logits, Ytr)\n",
        "\n",
        "print(f\"Training set loss {loss.item()}\")\n",
        "\n",
        "# 2) Dev Loss\n",
        "# Forward Pass\n",
        "emb = C[Xdev]\n",
        "# print(emb.shape)\n",
        "h = torch.tanh(emb.view(-1, in_size) @ W1 + b1)\n",
        "logits = h @ W2 + b2\n",
        "torch.nn.init.uniform_(logits, 0, 1)\n",
        "loss = F.cross_entropy(logits, Ydev)\n",
        "\n",
        "print(f\"Dev set loss {loss.item()}\")"
      ],
      "metadata": {
        "colab": {
          "base_uri": "https://localhost:8080/"
        },
        "id": "D72bIoYIBCTQ",
        "outputId": "70840cc3-295c-4d99-e349-43c749849bd2"
      },
      "execution_count": 10,
      "outputs": [
        {
          "output_type": "stream",
          "name": "stdout",
          "text": [
            "Training set loss 3.3353917598724365\n",
            "Dev set loss 3.3355441093444824\n"
          ]
        }
      ]
    }
  ]
}