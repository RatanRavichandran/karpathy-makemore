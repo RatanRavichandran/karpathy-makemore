{
  "nbformat": 4,
  "nbformat_minor": 0,
  "metadata": {
    "colab": {
      "provenance": [],
      "gpuType": "T4"
    },
    "kernelspec": {
      "name": "python3",
      "display_name": "Python 3"
    },
    "language_info": {
      "name": "python"
    },
    "accelerator": "GPU"
  },
  "cells": [
    {
      "cell_type": "code",
      "execution_count": 1,
      "metadata": {
        "id": "DFUz9a_Z1frf"
      },
      "outputs": [],
      "source": [
        "import torch\n",
        "import torch.nn as nn\n",
        "import torch.nn.functional as F\n",
        "import matplotlib.pyplot as plt\n",
        "import random\n",
        "import scipy.stats as stats\n",
        "import numpy as np"
      ]
    },
    {
      "cell_type": "code",
      "source": [
        "!wget https://raw.githubusercontent.com/karpathy/makemore/master/names.txt\n",
        "words = open('names.txt', 'r').read().splitlines()"
      ],
      "metadata": {
        "colab": {
          "base_uri": "https://localhost:8080/"
        },
        "id": "OxbJ0t0a1pCB",
        "outputId": "572a528a-248d-447c-9cda-88338d6e7005"
      },
      "execution_count": 2,
      "outputs": [
        {
          "output_type": "stream",
          "name": "stdout",
          "text": [
            "--2023-09-30 20:45:57--  https://raw.githubusercontent.com/karpathy/makemore/master/names.txt\n",
            "Resolving raw.githubusercontent.com (raw.githubusercontent.com)... 185.199.108.133, 185.199.109.133, 185.199.110.133, ...\n",
            "Connecting to raw.githubusercontent.com (raw.githubusercontent.com)|185.199.108.133|:443... connected.\n",
            "HTTP request sent, awaiting response... 200 OK\n",
            "Length: 228145 (223K) [text/plain]\n",
            "Saving to: ‘names.txt’\n",
            "\n",
            "\rnames.txt             0%[                    ]       0  --.-KB/s               \rnames.txt           100%[===================>] 222.80K  --.-KB/s    in 0.02s   \n",
            "\n",
            "2023-09-30 20:45:58 (9.47 MB/s) - ‘names.txt’ saved [228145/228145]\n",
            "\n"
          ]
        }
      ]
    },
    {
      "cell_type": "code",
      "source": [
        "# Vocabulary Building\n",
        "chars = sorted(list(set(''.join(words))))\n",
        "stoi = {s: i + 1 for i, s in enumerate(chars)}\n",
        "stoi['.'] = 0\n",
        "itos = {i: s for s, i in stoi.items()}\n",
        "vocab_size = len(itos)"
      ],
      "metadata": {
        "id": "thOnfVt31y_7"
      },
      "execution_count": 4,
      "outputs": []
    },
    {
      "cell_type": "code",
      "source": [
        "# Define the block size for character-level modeling.\n",
        "block_size = 3\n",
        "\n",
        "# Function to build the dataset for character-level prediction.\n",
        "def build_dataset(words):\n",
        "    X, Y = [], []\n",
        "    for w in words:\n",
        "        context = [0] * block_size  # Initialize the context with zeros.\n",
        "        for ch in w + '.':  # Iterate through each character in the word and add a period ('.') at the end.\n",
        "            ix = stoi[ch]  # Convert the character to an index using a dictionary 'stoi'.\n",
        "\n",
        "            # Append the context to the input data 'X' and the index of the current character to the target data 'Y'.\n",
        "            X.append(context)\n",
        "            Y.append(ix)\n",
        "\n",
        "            # Update the context by shifting it to the left and adding the index of the current character.\n",
        "            context = context[1:] + [ix]\n",
        "\n",
        "    # Convert the lists 'X' and 'Y' into PyTorch tensors.\n",
        "    X = torch.tensor(X)\n",
        "    Y = torch.tensor(Y)\n",
        "\n",
        "    return X, Y\n",
        "\n",
        "# Split the dataset into training, development, and testing sets based on the word indices.\n",
        "n1 = int(0.8 * len(words))\n",
        "n2 = int(0.9 * len(words))\n",
        "\n",
        "# Create training, development, and testing datasets using the 'build_dataset' function.\n",
        "Xtr, Ytr = build_dataset(words[:n1])  # Training set\n",
        "Xdev, Ydev = build_dataset(words[n1:n2])  # Development set\n",
        "Xte, Yte = build_dataset(words[n2:])  # Testing set\n"
      ],
      "metadata": {
        "id": "4Jp6x5m52rfI"
      },
      "execution_count": 5,
      "outputs": []
    },
    {
      "cell_type": "code",
      "source": [
        "import torch.nn as nn\n",
        "\n",
        "# Define a class for the Multi-Layer Perceptron model.\n",
        "class MLP(nn.Module):\n",
        "    def __init__(self, vocab_size, n_embd, n_hidden):\n",
        "        super(MLP, self).__init__()\n",
        "\n",
        "        # Embedding layer to convert character indices to embeddings.\n",
        "        self.embedding = nn.Embedding(vocab_size, n_embd)\n",
        "\n",
        "        # Define the layers of the MLP using a Sequential container.\n",
        "        self.layers = nn.Sequential(\n",
        "            nn.Linear(n_embd * block_size, n_hidden, bias=False),  # Fully connected layer with no bias.\n",
        "            nn.BatchNorm1d(n_hidden),  # Batch normalization to stabilize training.\n",
        "            nn.Tanh(),  # Hyperbolic tangent activation function.\n",
        "\n",
        "            # Repeat the following layers several times for depth in the network.\n",
        "            nn.Linear(n_hidden, n_hidden, bias=False),\n",
        "            nn.BatchNorm1d(n_hidden),\n",
        "            nn.Tanh(),\n",
        "            nn.Linear(n_hidden, n_hidden, bias=False),\n",
        "            nn.BatchNorm1d(n_hidden),\n",
        "            nn.Tanh(),\n",
        "            nn.Linear(n_hidden, n_hidden, bias=False),\n",
        "            nn.BatchNorm1d(n_hidden),\n",
        "            nn.Tanh(),\n",
        "            nn.Linear(n_hidden, n_hidden, bias=False),\n",
        "            nn.BatchNorm1d(n_hidden),\n",
        "            nn.Tanh(),\n",
        "\n",
        "            # Output layer with a linear transformation to predict character indices.\n",
        "            nn.Linear(n_hidden, vocab_size, bias=False),\n",
        "            nn.BatchNorm1d(vocab_size)\n",
        "        )\n",
        "    def forward(self, x):\n",
        "        x = self.embedding(x)\n",
        "        x = x.view(x.size(0), -1)\n",
        "        x = self.layers(x)\n",
        "        return x\n"
      ],
      "metadata": {
        "id": "QtI7N-Te2ugZ"
      },
      "execution_count": 8,
      "outputs": []
    },
    {
      "cell_type": "code",
      "source": [
        "# Function to train the MLP model.\n",
        "def train(model, X, Y, max_steps, batch_size, lr_initial=0.1, lr_decay_step=150000):\n",
        "    # Define the optimizer and loss function.\n",
        "    optimizer = torch.optim.SGD(model.parameters(), lr=lr_initial)\n",
        "    criterion = nn.CrossEntropyLoss()\n",
        "\n",
        "    # Lists to store loss and gradient information during training.\n",
        "    lossi = []\n",
        "    ud = []\n",
        "\n",
        "    for i in range(max_steps):\n",
        "        # Randomly sample a batch of data from the training set.\n",
        "        ix = torch.randint(0, X.size(0), (batch_size,))\n",
        "        Xb, Yb = X[ix], Y[ix]\n",
        "\n",
        "        # Zero the gradients.\n",
        "        optimizer.zero_grad()\n",
        "\n",
        "        # Forward pass through the model.\n",
        "        outputs = model(Xb)\n",
        "\n",
        "        # Calculate the loss.\n",
        "        loss = criterion(outputs, Yb)\n",
        "\n",
        "        # Backpropagate the gradients and update the model's weights.\n",
        "        loss.backward()\n",
        "        optimizer.step()\n",
        "\n",
        "        # Learning rate decay after a certain number of steps.\n",
        "        lr = lr_initial if i < lr_decay_step else 0.01\n",
        "        for param_group in optimizer.param_groups:\n",
        "            param_group['lr'] = lr\n",
        "\n",
        "        # Print loss at regular intervals during training.\n",
        "        if i % 10000 == 0:\n",
        "            print(f'{i:7d}/{max_steps:7d}: {loss.item():.4f}')\n",
        "        lossi.append(loss.item())\n",
        "\n",
        "        # Compute and log the ratio of gradient magnitude to parameter magnitude (log10 scale).\n",
        "        with torch.no_grad():\n",
        "            ud.append([((lr * p.grad).std() / p.data.std()).log10().item() for p in model.parameters()])\n",
        "\n",
        "    # Return the training loss history and gradient history.\n",
        "    return lossi, ud\n",
        "\n",
        "# Create an instance of the MLP model.\n",
        "model = MLP(vocab_size, n_embd=10, n_hidden=100)\n",
        "\n",
        "# Train the model and collect loss and gradient information.\n",
        "loss_history, gradient_history = train(model, Xtr, Ytr, max_steps=200000, batch_size=32)\n"
      ],
      "metadata": {
        "colab": {
          "base_uri": "https://localhost:8080/"
        },
        "id": "fTJfXoW_2662",
        "outputId": "5b9e4a55-4eb7-47b1-d923-4c654201a58b"
      },
      "execution_count": 9,
      "outputs": [
        {
          "output_type": "stream",
          "name": "stdout",
          "text": [
            "      0/ 200000: 3.9400\n",
            "  10000/ 200000: 2.7374\n",
            "  20000/ 200000: 2.1272\n",
            "  30000/ 200000: 2.1124\n",
            "  40000/ 200000: 2.2158\n",
            "  50000/ 200000: 2.0817\n",
            "  60000/ 200000: 2.0434\n",
            "  70000/ 200000: 1.6658\n",
            "  80000/ 200000: 2.1720\n",
            "  90000/ 200000: 2.3358\n",
            " 100000/ 200000: 2.2948\n",
            " 110000/ 200000: 2.0754\n",
            " 120000/ 200000: 1.7298\n",
            " 130000/ 200000: 2.0491\n",
            " 140000/ 200000: 2.2108\n",
            " 150000/ 200000: 2.2799\n",
            " 160000/ 200000: 2.0413\n",
            " 170000/ 200000: 2.2210\n",
            " 180000/ 200000: 2.1233\n",
            " 190000/ 200000: 2.0026\n"
          ]
        }
      ]
    },
    {
      "cell_type": "code",
      "source": [
        "# Visualization - Activation Distributions\n",
        "def plot_activation_distribution(model, X, layer_indices):\n",
        "    plt.figure(figsize=(20, 4))\n",
        "    legends = []\n",
        "    for i, layer in enumerate(model.layers):\n",
        "        if i in layer_indices and isinstance(layer, nn.Tanh):\n",
        "            with torch.no_grad():\n",
        "                out = layer(model.embedding(X)).view(-1).numpy()\n",
        "                mean = out.mean()\n",
        "                std = out.std()\n",
        "                saturated = (np.abs(out) > 0.97).mean() * 100\n",
        "                plt.hist(out, bins=100, alpha=0.5, label=f'Layer {i}, Mean={mean:.2f}, Std={std:.2f}, Saturated={saturated:.2f}%')\n",
        "                legends.append(f'Layer {i}')\n",
        "    plt.legend(legends)\n",
        "    plt.title('Activation Distribution')\n",
        "\n",
        "plot_activation_distribution(model, Xtr, [2, 4, 6, 8])"
      ],
      "metadata": {
        "colab": {
          "base_uri": "https://localhost:8080/",
          "height": 391
        },
        "id": "i4iRzyvh5YUu",
        "outputId": "114d280e-df7b-429c-ad8c-23c21fada936"
      },
      "execution_count": 13,
      "outputs": [
        {
          "output_type": "display_data",
          "data": {
            "text/plain": [
              "<Figure size 2000x400 with 1 Axes>"
            ],
            "image/png": "[encoded data removed]"
          },
          "metadata": {}
        }
      ]
    },
    {
      "cell_type": "code",
      "source": [
        "# Evaluation\n",
        "def evaluate(model, X, Y):\n",
        "    with torch.no_grad():\n",
        "        outputs = model(X)\n",
        "        loss = F.cross_entropy(outputs, Y)\n",
        "    return loss.item()\n",
        "\n",
        "print(f\"Train Loss: {evaluate(model, Xtr, Ytr):.4f}\")\n",
        "print(f\"Validation Loss: {evaluate(model, Xdev, Ydev):.4f}\")\n",
        "print(f\"Test Loss: {evaluate(model, Xte, Yte):.4f}\")"
      ],
      "metadata": {
        "colab": {
          "base_uri": "https://localhost:8080/"
        },
        "id": "zte60fPX5ry2",
        "outputId": "3d1950fc-4a46-4f41-ac5f-08a1ad9acca2"
      },
      "execution_count": 14,
      "outputs": [
        {
          "output_type": "stream",
          "name": "stdout",
          "text": [
            "Train Loss: 1.9565\n",
            "Validation Loss: 2.2999\n",
            "Test Loss: 2.3380\n"
          ]
        }
      ]
    },
    {
      "cell_type": "markdown",
      "source": [
        "Further improvements:\n",
        "Fine-tune hyperparameters such as n_embd, n_hidden, and learning rates.\n",
        "Experiment with different architectures or regularization techniques."
      ],
      "metadata": {
        "id": "cCF2HxIx5_n6"
      }
    }
  ]
}