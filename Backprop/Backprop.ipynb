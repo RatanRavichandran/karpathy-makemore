{
  "cells": [
    {
      "cell_type": "code",
      "source": [
        "import torch\n",
        "import torch.nn.functional as F\n",
        "import matplotlib.pyplot as plt\n",
        "%matplotlib inline"
      ],
      "metadata": {
        "id": "N9-qcP_LvgNC"
      },
      "execution_count": 1,
      "outputs": []
    },
    {
      "cell_type": "code",
      "source": [
        "!wget https://raw.githubusercontent.com/karpathy/makemore/master/names.txt\n"
      ],
      "metadata": {
        "colab": {
          "base_uri": "https://localhost:8080/"
        },
        "id": "NvAqLcLvvibO",
        "outputId": "0cac46a6-efbb-433e-8858-8a961890c373"
      },
      "execution_count": 2,
      "outputs": [
        {
          "output_type": "stream",
          "name": "stdout",
          "text": [
            "--2023-10-22 14:16:17--  https://raw.githubusercontent.com/karpathy/makemore/master/names.txt\n",
            "Resolving raw.githubusercontent.com (raw.githubusercontent.com)... 185.199.108.133, 185.199.109.133, 185.199.110.133, ...\n",
            "Connecting to raw.githubusercontent.com (raw.githubusercontent.com)|185.199.108.133|:443... connected.\n",
            "HTTP request sent, awaiting response... 200 OK\n",
            "Length: 228145 (223K) [text/plain]\n",
            "Saving to: ‘names.txt’\n",
            "\n",
            "names.txt           100%[===================>] 222.80K  --.-KB/s    in 0.03s   \n",
            "\n",
            "2023-10-22 14:16:17 (6.26 MB/s) - ‘names.txt’ saved [228145/228145]\n",
            "\n"
          ]
        }
      ]
    },
    {
      "cell_type": "code",
      "source": [
        "# read in all the words\n",
        "words = open('names.txt', 'r').read().splitlines()\n",
        "print(len(words))\n",
        "print(max(len(w) for w in words))\n",
        "print(words[:8])"
      ],
      "metadata": {
        "colab": {
          "base_uri": "https://localhost:8080/"
        },
        "id": "CMzUena9vj0m",
        "outputId": "9d488baf-66ee-4a52-9c86-4ad12f113608"
      },
      "execution_count": 3,
      "outputs": [
        {
          "output_type": "stream",
          "name": "stdout",
          "text": [
            "32033\n",
            "15\n",
            "['emma', 'olivia', 'ava', 'isabella', 'sophia', 'charlotte', 'mia', 'amelia']\n"
          ]
        }
      ]
    },
    {
      "cell_type": "code",
      "source": [
        "# build the vocabulary of characters and mappings to/from integers\n",
        "chars = sorted(list(set(''.join(words))))\n",
        "stoi = {s:i+1 for i,s in enumerate(chars)} # Map characters to integers\n",
        "stoi['.'] = 0  # Assign integer 0 to the period character\n",
        "itos = {i:s for s,i in stoi.items()}  # Reverse mapping of integers to characters\n",
        "vocab_size = len(itos)  # Size of the vocabulary\n",
        "print(itos)\n",
        "print(vocab_size)\n"
      ],
      "metadata": {
        "colab": {
          "base_uri": "https://localhost:8080/"
        },
        "id": "jGTYC_7YvkwW",
        "outputId": "ef365a99-3760-405d-e03d-956c55e17e00"
      },
      "execution_count": 5,
      "outputs": [
        {
          "output_type": "stream",
          "name": "stdout",
          "text": [
            "{1: 'a', 2: 'b', 3: 'c', 4: 'd', 5: 'e', 6: 'f', 7: 'g', 8: 'h', 9: 'i', 10: 'j', 11: 'k', 12: 'l', 13: 'm', 14: 'n', 15: 'o', 16: 'p', 17: 'q', 18: 'r', 19: 's', 20: 't', 21: 'u', 22: 'v', 23: 'w', 24: 'x', 25: 'y', 26: 'z', 0: '.'}\n",
            "27\n"
          ]
        }
      ]
    },
    {
      "cell_type": "code",
      "source": [
        "block_size = 3  # Context length: how many characters to predict the next one?\n"
      ],
      "metadata": {
        "id": "BHD2zPz1vmGg"
      },
      "execution_count": 6,
      "outputs": []
    },
    {
      "cell_type": "code",
      "source": [
        "def build_dataset(words):\n",
        "  X, Y = [], []\n",
        "\n",
        "  for w in words:\n",
        "    context = [0] * block_size\n",
        "    for ch in w + '.':\n",
        "      ix = stoi[ch]  # Map character to its integer representation\n",
        "      X.append(context)  # Add the context to X\n",
        "      Y.append(ix)  # Add the target character to Y\n",
        "      context = context[1:] + [ix]  # Shift context and append the new character\n",
        "\n",
        "  X = torch.tensor(X)\n",
        "  Y = torch.tensor(Y)\n",
        "  print(X.shape, Y.shape)\n",
        "  return X, Y\n"
      ],
      "metadata": {
        "id": "LWcHPyzxvoxc"
      },
      "execution_count": 8,
      "outputs": []
    },
    {
      "cell_type": "code",
      "source": [
        "# Shuffle and split the dataset into training, development, and test sets\n",
        "import random\n",
        "random.seed(42)\n",
        "random.shuffle(words)\n",
        "n1 = int(0.8*len(words))\n",
        "n2 = int(0.9*len(words))\n",
        "\n",
        "Xtr,  Ytr  = build_dataset(words[:n1])     # 80%\n",
        "Xdev, Ydev = build_dataset(words[n1:n2])   # 10%\n",
        "Xte,  Yte  = build_dataset(words[n2:])     # 10%"
      ],
      "metadata": {
        "colab": {
          "base_uri": "https://localhost:8080/"
        },
        "id": "VBsnughkv2si",
        "outputId": "ed89d1cb-51a8-49c9-a2c7-8322f105ebec"
      },
      "execution_count": 9,
      "outputs": [
        {
          "output_type": "stream",
          "name": "stdout",
          "text": [
            "torch.Size([182625, 3]) torch.Size([182625])\n",
            "torch.Size([22655, 3]) torch.Size([22655])\n",
            "torch.Size([22866, 3]) torch.Size([22866])\n"
          ]
        }
      ]
    },
    {
      "cell_type": "code",
      "source": [
        "n_embd = 10  # The dimensionality of the character embedding vectors\n",
        "n_hidden = 64  # The number of neurons in the hidden layer of the MLP"
      ],
      "metadata": {
        "id": "bjDb0nDgv4uh"
      },
      "execution_count": 10,
      "outputs": []
    },
    {
      "cell_type": "code",
      "source": [
        "g = torch.Generator().manual_seed(2147483647)  # For reproducibility\n",
        "C  = torch.randn((vocab_size, n_embd), generator=g)  # Character embeddings\n",
        "W1 = torch.randn((n_embd * block_size, n_hidden), generator=g) * (5/3)/((n_embd * block_size)**0.5)  # Layer 1 weights\n",
        "b1 = torch.randn(n_hidden, generator=g) * 0.1  # Layer 1 biases\n",
        "W2 = torch.randn((n_hidden, vocab_size), generator=g) * 0.1  # Layer 2 weights\n",
        "b2 = torch.randn(vocab_size, generator=g) * 0.1  # Layer 2 biases\n"
      ],
      "metadata": {
        "id": "9K_k4WG7v6Mb"
      },
      "execution_count": 11,
      "outputs": []
    },
    {
      "cell_type": "code",
      "source": [
        "# BatchNorm parameters\n",
        "bngain = torch.randn((1, n_hidden))*0.1 + 1.0  # BatchNorm gain\n",
        "bnbias = torch.randn((1, n_hidden))*0.1  # BatchNorm bias\n"
      ],
      "metadata": {
        "id": "IH8sGhqDv8CH"
      },
      "execution_count": 12,
      "outputs": []
    },
    {
      "cell_type": "code",
      "source": [
        "# Define the network parameters as a list\n",
        "parameters = [C, W1, b1, W2, b2, bngain, bnbias]"
      ],
      "metadata": {
        "id": "d_xCta3Hv9Zw"
      },
      "execution_count": 13,
      "outputs": []
    },
    {
      "cell_type": "code",
      "source": [
        "# Calculate the total number of parameters\n",
        "print(sum(p.nelement() for p in parameters))"
      ],
      "metadata": {
        "colab": {
          "base_uri": "https://localhost:8080/"
        },
        "id": "vvAEbNBlv-eF",
        "outputId": "8bf81a56-0a04-484a-e0d9-3d2f21fd7356"
      },
      "execution_count": 14,
      "outputs": [
        {
          "output_type": "stream",
          "name": "stdout",
          "text": [
            "4137\n"
          ]
        }
      ]
    },
    {
      "cell_type": "code",
      "source": [
        "# Enable gradients for the network parameters\n",
        "for p in parameters:\n",
        "  p.requires_grad = True"
      ],
      "metadata": {
        "id": "Z7uGAJbSv_xS"
      },
      "execution_count": 15,
      "outputs": []
    },
    {
      "cell_type": "code",
      "source": [
        "# Set batch size and create a minibatch\n",
        "batch_size = 32\n",
        "n = batch_size  # A shorter variable for convenience\n",
        "ix = torch.randint(0, Xtr.shape[0], (batch_size,), generator=g)\n",
        "Xb, Yb = Xtr[ix], Ytr[ix]  # Batch X, Y\n",
        "\n"
      ],
      "metadata": {
        "id": "WSkE8wMiwBSj"
      },
      "execution_count": 16,
      "outputs": []
    },
    {
      "cell_type": "code",
      "source": [
        "# Forward pass: \"chunkated\" into smaller steps that are possible to backward one at a time\n",
        "emb = C[Xb]  # Embed the characters into vectors\n",
        "embcat = emb.view(emb.shape[0], -1)  # Concatenate the vectors\n",
        "hprebn = embcat @ W1 + b1  # Hidden layer pre-activation"
      ],
      "metadata": {
        "id": "r-jW35p2wD0_"
      },
      "execution_count": 17,
      "outputs": []
    },
    {
      "cell_type": "code",
      "source": [
        "# BatchNorm layer\n",
        "# Calculate the mean and variance over the batch\n",
        "bnmean = 1/n * hprebn.sum(0, keepdim=True)\n",
        "bndiff = hprebn - bnmean\n",
        "bndiff2 = bndiff**2\n",
        "bnvar = 1/(n-1) * (bndiff2).sum(0, keepdim=True)\n",
        "bnvar_inv = (bnvar + 1e-5)**-0.5  # Add epsilon for stability\n",
        "bnraw = bndiff * bnvar_inv\n",
        "hpreact = bngain * bnraw + bnbias\n",
        "\n",
        "# Non-linearity\n",
        "h = torch.tanh(hpreact)  # Hidden layer\n",
        "logits = h @ W2 + b2  # Output layer"
      ],
      "metadata": {
        "id": "IgyeAmJiwFkw"
      },
      "execution_count": 18,
      "outputs": []
    },
    {
      "cell_type": "code",
      "source": [
        "# Cross-entropy loss\n",
        "logit_maxes = logits.max(1, keepdim=True).values\n",
        "norm_logits = logits - logit_maxes  # Subtract max for numerical stability\n",
        "counts = norm_logits.exp()\n",
        "counts_sum = counts.sum(1, keepdims=True)\n",
        "counts_sum_inv = counts_sum**-1  # If we use (1.0 / counts_sum) instead, backprop won't be bit exact\n",
        "probs = counts * counts_sum_inv\n",
        "logprobs = probs.log()\n",
        "loss = -logprobs[range(n), Yb].mean()\n"
      ],
      "metadata": {
        "id": "1H1tp_xVwHC4"
      },
      "execution_count": 19,
      "outputs": []
    },
    {
      "cell_type": "code",
      "source": [
        "# PyTorch backward pass\n",
        "for p in parameters:\n",
        "  p.grad = None\n",
        "loss.backward()\n"
      ],
      "metadata": {
        "id": "f0BtwHTgwIij"
      },
      "execution_count": 20,
      "outputs": []
    }
  ],
  "metadata": {
    "kernelspec": {
      "display_name": "Python 3",
      "language": "python",
      "name": "python3"
    },
    "language_info": {
      "codemirror_mode": {
        "name": "ipython",
        "version": 3
      },
      "file_extension": ".py",
      "mimetype": "text/x-python",
      "name": "python",
      "nbconvert_exporter": "python",
      "pygments_lexer": "ipython3",
      "version": "3.8.5"
    },
    "colab": {
      "provenance": []
    }
  },
  "nbformat": 4,
  "nbformat_minor": 0
}